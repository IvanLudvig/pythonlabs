{
 "cells": [
  {
   "cell_type": "code",
   "execution_count": 1,
   "metadata": {},
   "outputs": [],
   "source": [
    "from sympy import *"
   ]
  },
  {
   "cell_type": "code",
   "execution_count": 2,
   "metadata": {},
   "outputs": [],
   "source": [
    "lamda, mu, rho = symbols('lamda mu rho')"
   ]
  },
  {
   "cell_type": "code",
   "execution_count": 3,
   "metadata": {},
   "outputs": [],
   "source": [
    "A = zeros(9)\n",
    "A[0:3, 3:6] = eye(3)*(-1/rho)\n",
    "A[3:6, 0:3] = eye(3)*(-mu)"
   ]
  },
  {
   "cell_type": "code",
   "execution_count": 4,
   "metadata": {},
   "outputs": [
    {
     "data": {
      "text/latex": [
       "$\\displaystyle \\left[\\begin{matrix}0 & 0 & 0 & - \\frac{1}{\\rho} & 0 & 0 & 0 & 0 & 0\\\\0 & 0 & 0 & 0 & - \\frac{1}{\\rho} & 0 & 0 & 0 & 0\\\\0 & 0 & 0 & 0 & 0 & - \\frac{1}{\\rho} & 0 & 0 & 0\\\\- \\lambda - 2 \\mu & 0 & 0 & 0 & 0 & 0 & 0 & 0 & 0\\\\0 & - \\mu & 0 & 0 & 0 & 0 & 0 & 0 & 0\\\\0 & 0 & - \\mu & 0 & 0 & 0 & 0 & 0 & 0\\\\- \\lambda & 0 & 0 & 0 & 0 & 0 & 0 & 0 & 0\\\\0 & 0 & 0 & 0 & 0 & 0 & 0 & 0 & 0\\\\- \\lambda & 0 & 0 & 0 & 0 & 0 & 0 & 0 & 0\\end{matrix}\\right]$"
      ],
      "text/plain": [
       "Matrix([\n",
       "[            0,   0,   0, -1/rho,      0,      0, 0, 0, 0],\n",
       "[            0,   0,   0,      0, -1/rho,      0, 0, 0, 0],\n",
       "[            0,   0,   0,      0,      0, -1/rho, 0, 0, 0],\n",
       "[-lamda - 2*mu,   0,   0,      0,      0,      0, 0, 0, 0],\n",
       "[            0, -mu,   0,      0,      0,      0, 0, 0, 0],\n",
       "[            0,   0, -mu,      0,      0,      0, 0, 0, 0],\n",
       "[       -lamda,   0,   0,      0,      0,      0, 0, 0, 0],\n",
       "[            0,   0,   0,      0,      0,      0, 0, 0, 0],\n",
       "[       -lamda,   0,   0,      0,      0,      0, 0, 0, 0]])"
      ]
     },
     "execution_count": 4,
     "metadata": {},
     "output_type": "execute_result"
    }
   ],
   "source": [
    "A[3, 0] -= lamda + mu\n",
    "A[6, 0] = -lamda\n",
    "A[8, 0] = -lamda\n",
    "A"
   ]
  },
  {
   "cell_type": "code",
   "execution_count": 5,
   "metadata": {},
   "outputs": [
    {
     "name": "stdout",
     "output_type": "stream",
     "text": [
      "-sqrt(lamda/rho + 2*mu/rho):  1\n",
      "sqrt(lamda/rho + 2*mu/rho):  1\n",
      "-sqrt(mu/rho):  2\n",
      "sqrt(mu/rho):  2\n",
      "0:  3\n"
     ]
    }
   ],
   "source": [
    "eigenvals = A.eigenvals()\n",
    "for val in eigenvals:\n",
    "    print(f\"{val}:  {eigenvals[val]}\")"
   ]
  }
 ],
 "metadata": {
  "kernelspec": {
   "display_name": "Python 3",
   "language": "python",
   "name": "python3"
  },
  "language_info": {
   "codemirror_mode": {
    "name": "ipython",
    "version": 3
   },
   "file_extension": ".py",
   "mimetype": "text/x-python",
   "name": "python",
   "nbconvert_exporter": "python",
   "pygments_lexer": "ipython3",
   "version": "3.8.6"
  }
 },
 "nbformat": 4,
 "nbformat_minor": 4
}
