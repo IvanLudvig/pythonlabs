{
 "cells": [
  {
   "cell_type": "code",
   "execution_count": 1,
   "metadata": {},
   "outputs": [],
   "source": [
    "import pandas as pd"
   ]
  },
  {
   "cell_type": "code",
   "execution_count": 2,
   "metadata": {},
   "outputs": [
    {
     "data": {
      "text/html": [
       "<div>\n",
       "<style scoped>\n",
       "    .dataframe tbody tr th:only-of-type {\n",
       "        vertical-align: middle;\n",
       "    }\n",
       "\n",
       "    .dataframe tbody tr th {\n",
       "        vertical-align: top;\n",
       "    }\n",
       "\n",
       "    .dataframe thead th {\n",
       "        text-align: right;\n",
       "    }\n",
       "</style>\n",
       "<table border=\"1\" class=\"dataframe\">\n",
       "  <thead>\n",
       "    <tr style=\"text-align: right;\">\n",
       "      <th></th>\n",
       "      <th>teacher</th>\n",
       "      <th>group</th>\n",
       "      <th>grade</th>\n",
       "    </tr>\n",
       "  </thead>\n",
       "  <tbody>\n",
       "    <tr>\n",
       "      <th>0</th>\n",
       "      <td>prep1</td>\n",
       "      <td>751</td>\n",
       "      <td>8</td>\n",
       "    </tr>\n",
       "    <tr>\n",
       "      <th>1</th>\n",
       "      <td>prep1</td>\n",
       "      <td>751</td>\n",
       "      <td>5</td>\n",
       "    </tr>\n",
       "    <tr>\n",
       "      <th>2</th>\n",
       "      <td>prep1</td>\n",
       "      <td>751</td>\n",
       "      <td>4</td>\n",
       "    </tr>\n",
       "    <tr>\n",
       "      <th>3</th>\n",
       "      <td>prep1</td>\n",
       "      <td>751</td>\n",
       "      <td>5</td>\n",
       "    </tr>\n",
       "    <tr>\n",
       "      <th>4</th>\n",
       "      <td>prep1</td>\n",
       "      <td>751</td>\n",
       "      <td>4</td>\n",
       "    </tr>\n",
       "  </tbody>\n",
       "</table>\n",
       "</div>"
      ],
      "text/plain": [
       "  teacher  group  grade\n",
       "0   prep1    751      8\n",
       "1   prep1    751      5\n",
       "2   prep1    751      4\n",
       "3   prep1    751      5\n",
       "4   prep1    751      4"
      ]
     },
     "execution_count": 2,
     "metadata": {},
     "output_type": "execute_result"
    }
   ],
   "source": [
    "columns = ['teacher', 'group', 'grade']\n",
    "df = pd.read_csv('students.csv', names=columns, header=None, delimiter=';')\n",
    "df.head()"
   ]
  },
  {
   "cell_type": "code",
   "execution_count": 3,
   "metadata": {},
   "outputs": [
    {
     "data": {
      "image/png": "[encoded data removed]",
      "text/plain": [
       "<Figure size 432x288 with 1 Axes>"
      ]
     },
     "metadata": {
      "needs_background": "light"
     },
     "output_type": "display_data"
    }
   ],
   "source": [
    "grade_by_prep = df.groupby(['teacher', 'grade'])\n",
    "grade_by_prep = grade_by_prep.size().unstack()\n",
    "grade_by_prep.plot(kind='bar', stacked=True).legend(loc='center left', bbox_to_anchor=(1.0, 0.5));"
   ]
  },
  {
   "cell_type": "code",
   "execution_count": 4,
   "metadata": {},
   "outputs": [
    {
     "data": {
      "image/png": "[encoded data removed]",
      "text/plain": [
       "<Figure size 432x288 with 1 Axes>"
      ]
     },
     "metadata": {
      "needs_background": "light"
     },
     "output_type": "display_data"
    }
   ],
   "source": [
    "grade_by_group = df.groupby(['group', 'grade'])\n",
    "grade_by_group = grade_by_group.size().unstack()\n",
    "grade_by_group.plot(kind='bar', stacked=True).legend(loc='center left', bbox_to_anchor=(1.0, 0.5));"
   ]
  },
  {
   "cell_type": "code",
   "execution_count": 5,
   "metadata": {},
   "outputs": [
    {
     "name": "stdout",
     "output_type": "stream",
     "text": [
      "group  avg\n",
      "751    5.2\n",
      "752    7.6\n",
      "753    5.8\n",
      "754    7.2\n",
      "755    6.0\n",
      "756    6.2\n"
     ]
    }
   ],
   "source": [
    "print('group  avg')\n",
    "for group in range(751, 757):\n",
    "    mean = df[df['group']==group].head().mean()['grade']\n",
    "    print('{}    {}'.format(group, mean))"
   ]
  },
  {
   "cell_type": "code",
   "execution_count": 6,
   "metadata": {},
   "outputs": [
    {
     "name": "stdout",
     "output_type": "stream",
     "text": [
      "perp   avg\n",
      "prep1  5.2\n",
      "prep2  7.8\n",
      "prep3  7.2\n",
      "prep4  4.2\n",
      "prep5  6.6\n",
      "prep6  6.4\n",
      "prep7  6.8\n"
     ]
    }
   ],
   "source": [
    "print('perp   avg')\n",
    "for prep in range(1, 8):\n",
    "    mean = df[df['teacher']=='prep{}'.format(prep)].head().mean()['grade']\n",
    "    print('prep{}  {}'.format(prep, mean))"
   ]
  },
  {
   "cell_type": "markdown",
   "metadata": {},
   "source": [
    "Самый халявный prep2, самый нехалявный prep4.\n",
    "Самая раздолбайская группа 751, самая шаристая 752."
   ]
  }
 ],
 "metadata": {
  "kernelspec": {
   "display_name": "Python 3",
   "language": "python",
   "name": "python3"
  },
  "language_info": {
   "codemirror_mode": {
    "name": "ipython",
    "version": 3
   },
   "file_extension": ".py",
   "mimetype": "text/x-python",
   "name": "python",
   "nbconvert_exporter": "python",
   "pygments_lexer": "ipython3",
   "version": "3.8.6"
  }
 },
 "nbformat": 4,
 "nbformat_minor": 4
}
